{
 "cells": [
  {
   "cell_type": "code",
   "execution_count": 1,
   "metadata": {
    "_cell_guid": "986eb33d-e4f9-3133-b947-5c7eb67e3b1f"
   },
   "outputs": [],
   "source": [
    "# This Python 3 environment comes with many helpful analytics libraries installed\n",
    "# It is defined by the kaggle/python docker image: https://github.com/kaggle/docker-python\n",
    "# For example, here's several helpful packages to load in \n",
    "\n",
    "import numpy as np # linear algebra\n",
    "import pandas as pd # data processing, CSV file I/O (e.g. pd.read_csv)\n",
    "\n",
    "# Input data files are available in the \"../input/\" directory.\n",
    "# For example, running this (by clicking run or pressing Shift+Enter) will list the files in the input directory\n",
    "\n",
    "# from subprocess import check_output\n",
    "# print(check_output([\"ls\", \"../input\"]).decode(\"utf8\"))\n",
    "\n",
    "# Any results you write to the current directory are saved as output."
   ]
  },
  {
   "cell_type": "code",
   "execution_count": 2,
   "metadata": {
    "_cell_guid": "fe2447a1-3d60-920d-eea9-8bb4311b7b88"
   },
   "outputs": [
    {
     "data": {
      "text/plain": [
       "id            24158\n",
       "country_id    24158\n",
       "league_id     24158\n",
       "season        24158\n",
       "stage         24158\n",
       "              ...  \n",
       "GBD           13647\n",
       "GBA           13647\n",
       "BSH           13647\n",
       "BSD           13647\n",
       "BSA           13647\n",
       "Length: 115, dtype: int64"
      ]
     },
     "execution_count": 2,
     "metadata": {},
     "output_type": "execute_result"
    }
   ],
   "source": [
    "import sqlite3\n",
    "# con = sqlite3.connect('data/raw_data/database.sqlite')\n",
    "\n",
    "with sqlite3.connect('data/raw_data/database.sqlite') as con:\n",
    "    matches = pd.read_sql_query(\"SELECT * from Match where country_id = 21518\", con)\n",
    "    leagues = pd.read_sql_query(\"SELECT * from League\", con)\n",
    "    teams = pd.read_sql_query(\"SELECT * from Team\", con)\n",
    "#select relevant fields\n",
    "\n",
    "matches = matches[matches.league_id.isin(leagues.id)]\n",
    "\n",
    "#matches = matches[['id', 'country_id' ,'league_id', 'season', 'stage', 'date','match_api_id', 'home_team_goal', 'away_team_goal','B365H', 'B365D' ,'B365A']]\n",
    "\n",
    "matches.dropna(inplace=True)\n",
    "\n",
    "#matches.head()\n",
    "#matches.count()\n",
    "players = pd.read_sql_query(\"SELECT * from Match WHERE home_player_X1 is not null\", con)\n",
    "players.count()"
   ]
  },
  {
   "cell_type": "code",
   "execution_count": 13,
   "metadata": {},
   "outputs": [
    {
     "data": {
      "text/html": [
       "<div>\n",
       "<style scoped>\n",
       "    .dataframe tbody tr th:only-of-type {\n",
       "        vertical-align: middle;\n",
       "    }\n",
       "\n",
       "    .dataframe tbody tr th {\n",
       "        vertical-align: top;\n",
       "    }\n",
       "\n",
       "    .dataframe thead th {\n",
       "        text-align: right;\n",
       "    }\n",
       "</style>\n",
       "<table border=\"1\" class=\"dataframe\">\n",
       "  <thead>\n",
       "    <tr style=\"text-align: right;\">\n",
       "      <th></th>\n",
       "      <th>id</th>\n",
       "      <th>country_id</th>\n",
       "      <th>league_id</th>\n",
       "      <th>season</th>\n",
       "      <th>stage</th>\n",
       "      <th>date</th>\n",
       "      <th>match_api_id</th>\n",
       "      <th>home_team_api_id</th>\n",
       "      <th>away_team_api_id</th>\n",
       "      <th>home_team_goal</th>\n",
       "      <th>...</th>\n",
       "      <th>VCH</th>\n",
       "      <th>VCD</th>\n",
       "      <th>VCA</th>\n",
       "      <th>GBH</th>\n",
       "      <th>GBD</th>\n",
       "      <th>GBA</th>\n",
       "      <th>BSH</th>\n",
       "      <th>BSD</th>\n",
       "      <th>BSA</th>\n",
       "      <th>match_result</th>\n",
       "    </tr>\n",
       "  </thead>\n",
       "  <tbody>\n",
       "    <tr>\n",
       "      <th>1520</th>\n",
       "      <td>23038</td>\n",
       "      <td>21518</td>\n",
       "      <td>21518</td>\n",
       "      <td>2012/2013</td>\n",
       "      <td>1</td>\n",
       "      <td>2012-08-19 00:00:00</td>\n",
       "      <td>1259321</td>\n",
       "      <td>8315</td>\n",
       "      <td>8603</td>\n",
       "      <td>3</td>\n",
       "      <td>...</td>\n",
       "      <td>1.87</td>\n",
       "      <td>3.70</td>\n",
       "      <td>4.33</td>\n",
       "      <td>1.85</td>\n",
       "      <td>3.50</td>\n",
       "      <td>4.10</td>\n",
       "      <td>1.83</td>\n",
       "      <td>3.5</td>\n",
       "      <td>4.20</td>\n",
       "      <td>lose</td>\n",
       "    </tr>\n",
       "    <tr>\n",
       "      <th>1521</th>\n",
       "      <td>23039</td>\n",
       "      <td>21518</td>\n",
       "      <td>21518</td>\n",
       "      <td>2012/2013</td>\n",
       "      <td>1</td>\n",
       "      <td>2012-08-19 00:00:00</td>\n",
       "      <td>1259332</td>\n",
       "      <td>8633</td>\n",
       "      <td>10267</td>\n",
       "      <td>1</td>\n",
       "      <td>...</td>\n",
       "      <td>1.25</td>\n",
       "      <td>6.50</td>\n",
       "      <td>12.00</td>\n",
       "      <td>1.26</td>\n",
       "      <td>5.75</td>\n",
       "      <td>9.75</td>\n",
       "      <td>1.25</td>\n",
       "      <td>5.5</td>\n",
       "      <td>11.00</td>\n",
       "      <td>draw</td>\n",
       "    </tr>\n",
       "    <tr>\n",
       "      <th>1522</th>\n",
       "      <td>23040</td>\n",
       "      <td>21518</td>\n",
       "      <td>21518</td>\n",
       "      <td>2012/2013</td>\n",
       "      <td>1</td>\n",
       "      <td>2012-08-19 00:00:00</td>\n",
       "      <td>1259353</td>\n",
       "      <td>8634</td>\n",
       "      <td>8560</td>\n",
       "      <td>5</td>\n",
       "      <td>...</td>\n",
       "      <td>1.10</td>\n",
       "      <td>12.00</td>\n",
       "      <td>31.00</td>\n",
       "      <td>1.08</td>\n",
       "      <td>10.00</td>\n",
       "      <td>23.00</td>\n",
       "      <td>1.10</td>\n",
       "      <td>9.0</td>\n",
       "      <td>21.00</td>\n",
       "      <td>win</td>\n",
       "    </tr>\n",
       "    <tr>\n",
       "      <th>1523</th>\n",
       "      <td>23041</td>\n",
       "      <td>21518</td>\n",
       "      <td>21518</td>\n",
       "      <td>2012/2013</td>\n",
       "      <td>1</td>\n",
       "      <td>2012-08-18 00:00:00</td>\n",
       "      <td>1259354</td>\n",
       "      <td>8302</td>\n",
       "      <td>8305</td>\n",
       "      <td>2</td>\n",
       "      <td>...</td>\n",
       "      <td>1.67</td>\n",
       "      <td>3.80</td>\n",
       "      <td>6.00</td>\n",
       "      <td>1.60</td>\n",
       "      <td>3.75</td>\n",
       "      <td>5.50</td>\n",
       "      <td>1.70</td>\n",
       "      <td>3.6</td>\n",
       "      <td>5.00</td>\n",
       "      <td>win</td>\n",
       "    </tr>\n",
       "    <tr>\n",
       "      <th>1524</th>\n",
       "      <td>23042</td>\n",
       "      <td>21518</td>\n",
       "      <td>21518</td>\n",
       "      <td>2012/2013</td>\n",
       "      <td>1</td>\n",
       "      <td>2012-08-19 00:00:00</td>\n",
       "      <td>1259365</td>\n",
       "      <td>8581</td>\n",
       "      <td>9906</td>\n",
       "      <td>1</td>\n",
       "      <td>...</td>\n",
       "      <td>3.40</td>\n",
       "      <td>3.40</td>\n",
       "      <td>2.25</td>\n",
       "      <td>3.10</td>\n",
       "      <td>3.40</td>\n",
       "      <td>2.30</td>\n",
       "      <td>3.00</td>\n",
       "      <td>3.3</td>\n",
       "      <td>2.30</td>\n",
       "      <td>draw</td>\n",
       "    </tr>\n",
       "    <tr>\n",
       "      <th>...</th>\n",
       "      <td>...</td>\n",
       "      <td>...</td>\n",
       "      <td>...</td>\n",
       "      <td>...</td>\n",
       "      <td>...</td>\n",
       "      <td>...</td>\n",
       "      <td>...</td>\n",
       "      <td>...</td>\n",
       "      <td>...</td>\n",
       "      <td>...</td>\n",
       "      <td>...</td>\n",
       "      <td>...</td>\n",
       "      <td>...</td>\n",
       "      <td>...</td>\n",
       "      <td>...</td>\n",
       "      <td>...</td>\n",
       "      <td>...</td>\n",
       "      <td>...</td>\n",
       "      <td>...</td>\n",
       "      <td>...</td>\n",
       "      <td>...</td>\n",
       "    </tr>\n",
       "    <tr>\n",
       "      <th>1895</th>\n",
       "      <td>23413</td>\n",
       "      <td>21518</td>\n",
       "      <td>21518</td>\n",
       "      <td>2012/2013</td>\n",
       "      <td>9</td>\n",
       "      <td>2012-10-28 00:00:00</td>\n",
       "      <td>1260116</td>\n",
       "      <td>8581</td>\n",
       "      <td>7878</td>\n",
       "      <td>3</td>\n",
       "      <td>...</td>\n",
       "      <td>2.05</td>\n",
       "      <td>3.50</td>\n",
       "      <td>3.90</td>\n",
       "      <td>2.00</td>\n",
       "      <td>3.20</td>\n",
       "      <td>3.90</td>\n",
       "      <td>2.00</td>\n",
       "      <td>3.4</td>\n",
       "      <td>3.50</td>\n",
       "      <td>win</td>\n",
       "    </tr>\n",
       "    <tr>\n",
       "      <th>1896</th>\n",
       "      <td>23414</td>\n",
       "      <td>21518</td>\n",
       "      <td>21518</td>\n",
       "      <td>2012/2013</td>\n",
       "      <td>9</td>\n",
       "      <td>2012-10-28 00:00:00</td>\n",
       "      <td>1260118</td>\n",
       "      <td>8394</td>\n",
       "      <td>8302</td>\n",
       "      <td>2</td>\n",
       "      <td>...</td>\n",
       "      <td>3.20</td>\n",
       "      <td>3.40</td>\n",
       "      <td>2.38</td>\n",
       "      <td>3.30</td>\n",
       "      <td>3.20</td>\n",
       "      <td>2.35</td>\n",
       "      <td>2.88</td>\n",
       "      <td>3.3</td>\n",
       "      <td>2.38</td>\n",
       "      <td>win</td>\n",
       "    </tr>\n",
       "    <tr>\n",
       "      <th>1897</th>\n",
       "      <td>23415</td>\n",
       "      <td>21518</td>\n",
       "      <td>21518</td>\n",
       "      <td>2012/2013</td>\n",
       "      <td>9</td>\n",
       "      <td>2012-10-28 00:00:00</td>\n",
       "      <td>1260121</td>\n",
       "      <td>8661</td>\n",
       "      <td>8633</td>\n",
       "      <td>0</td>\n",
       "      <td>...</td>\n",
       "      <td>9.00</td>\n",
       "      <td>5.25</td>\n",
       "      <td>1.36</td>\n",
       "      <td>8.75</td>\n",
       "      <td>4.75</td>\n",
       "      <td>1.40</td>\n",
       "      <td>8.50</td>\n",
       "      <td>4.5</td>\n",
       "      <td>1.36</td>\n",
       "      <td>lose</td>\n",
       "    </tr>\n",
       "    <tr>\n",
       "      <th>1898</th>\n",
       "      <td>23416</td>\n",
       "      <td>21518</td>\n",
       "      <td>21518</td>\n",
       "      <td>2012/2013</td>\n",
       "      <td>9</td>\n",
       "      <td>2012-10-27 00:00:00</td>\n",
       "      <td>1260123</td>\n",
       "      <td>9910</td>\n",
       "      <td>9783</td>\n",
       "      <td>1</td>\n",
       "      <td>...</td>\n",
       "      <td>1.95</td>\n",
       "      <td>3.60</td>\n",
       "      <td>4.20</td>\n",
       "      <td>1.90</td>\n",
       "      <td>3.40</td>\n",
       "      <td>4.00</td>\n",
       "      <td>1.91</td>\n",
       "      <td>3.5</td>\n",
       "      <td>3.75</td>\n",
       "      <td>draw</td>\n",
       "    </tr>\n",
       "    <tr>\n",
       "      <th>1899</th>\n",
       "      <td>23417</td>\n",
       "      <td>21518</td>\n",
       "      <td>21518</td>\n",
       "      <td>2012/2013</td>\n",
       "      <td>9</td>\n",
       "      <td>2012-10-27 00:00:00</td>\n",
       "      <td>1260124</td>\n",
       "      <td>8370</td>\n",
       "      <td>8634</td>\n",
       "      <td>0</td>\n",
       "      <td>...</td>\n",
       "      <td>11.00</td>\n",
       "      <td>6.50</td>\n",
       "      <td>1.29</td>\n",
       "      <td>11.50</td>\n",
       "      <td>6.00</td>\n",
       "      <td>1.22</td>\n",
       "      <td>9.00</td>\n",
       "      <td>5.5</td>\n",
       "      <td>1.29</td>\n",
       "      <td>lose</td>\n",
       "    </tr>\n",
       "  </tbody>\n",
       "</table>\n",
       "<p>364 rows × 116 columns</p>\n",
       "</div>"
      ],
      "text/plain": [
       "         id  country_id  league_id     season  stage                 date  \\\n",
       "1520  23038       21518      21518  2012/2013      1  2012-08-19 00:00:00   \n",
       "1521  23039       21518      21518  2012/2013      1  2012-08-19 00:00:00   \n",
       "1522  23040       21518      21518  2012/2013      1  2012-08-19 00:00:00   \n",
       "1523  23041       21518      21518  2012/2013      1  2012-08-18 00:00:00   \n",
       "1524  23042       21518      21518  2012/2013      1  2012-08-19 00:00:00   \n",
       "...     ...         ...        ...        ...    ...                  ...   \n",
       "1895  23413       21518      21518  2012/2013      9  2012-10-28 00:00:00   \n",
       "1896  23414       21518      21518  2012/2013      9  2012-10-28 00:00:00   \n",
       "1897  23415       21518      21518  2012/2013      9  2012-10-28 00:00:00   \n",
       "1898  23416       21518      21518  2012/2013      9  2012-10-27 00:00:00   \n",
       "1899  23417       21518      21518  2012/2013      9  2012-10-27 00:00:00   \n",
       "\n",
       "      match_api_id  home_team_api_id  away_team_api_id  home_team_goal  ...  \\\n",
       "1520       1259321              8315              8603               3  ...   \n",
       "1521       1259332              8633             10267               1  ...   \n",
       "1522       1259353              8634              8560               5  ...   \n",
       "1523       1259354              8302              8305               2  ...   \n",
       "1524       1259365              8581              9906               1  ...   \n",
       "...            ...               ...               ...             ...  ...   \n",
       "1895       1260116              8581              7878               3  ...   \n",
       "1896       1260118              8394              8302               2  ...   \n",
       "1897       1260121              8661              8633               0  ...   \n",
       "1898       1260123              9910              9783               1  ...   \n",
       "1899       1260124              8370              8634               0  ...   \n",
       "\n",
       "        VCH    VCD    VCA    GBH    GBD    GBA   BSH  BSD    BSA  match_result  \n",
       "1520   1.87   3.70   4.33   1.85   3.50   4.10  1.83  3.5   4.20          lose  \n",
       "1521   1.25   6.50  12.00   1.26   5.75   9.75  1.25  5.5  11.00          draw  \n",
       "1522   1.10  12.00  31.00   1.08  10.00  23.00  1.10  9.0  21.00           win  \n",
       "1523   1.67   3.80   6.00   1.60   3.75   5.50  1.70  3.6   5.00           win  \n",
       "1524   3.40   3.40   2.25   3.10   3.40   2.30  3.00  3.3   2.30          draw  \n",
       "...     ...    ...    ...    ...    ...    ...   ...  ...    ...           ...  \n",
       "1895   2.05   3.50   3.90   2.00   3.20   3.90  2.00  3.4   3.50           win  \n",
       "1896   3.20   3.40   2.38   3.30   3.20   2.35  2.88  3.3   2.38           win  \n",
       "1897   9.00   5.25   1.36   8.75   4.75   1.40  8.50  4.5   1.36          lose  \n",
       "1898   1.95   3.60   4.20   1.90   3.40   4.00  1.91  3.5   3.75          draw  \n",
       "1899  11.00   6.50   1.29  11.50   6.00   1.22  9.00  5.5   1.29          lose  \n",
       "\n",
       "[364 rows x 116 columns]"
      ]
     },
     "execution_count": 13,
     "metadata": {},
     "output_type": "execute_result"
    }
   ],
   "source": [
    "matches"
   ]
  },
  {
   "cell_type": "markdown",
   "metadata": {
    "_cell_guid": "48e7037b-2554-89c0-6cda-6664971c6d9b"
   },
   "source": [
    "# Baseline framework\n",
    "using SVM machine learning."
   ]
  },
  {
   "cell_type": "code",
   "execution_count": 3,
   "metadata": {
    "_cell_guid": "70e05ad5-7d32-d4a5-beed-74f60a038759"
   },
   "outputs": [
    {
     "data": {
      "text/plain": [
       "(255, 116)"
      ]
     },
     "execution_count": 3,
     "metadata": {},
     "output_type": "execute_result"
    }
   ],
   "source": [
    "from sklearn import svm\n",
    "def who_win(x):\n",
    "    if x['home_team_goal'] > x['away_team_goal']:\n",
    "        return 'win'\n",
    "    if x['home_team_goal'] < x['away_team_goal']:\n",
    "        return 'lose'\n",
    "    if x['home_team_goal'] == x['away_team_goal']:\n",
    "        return 'draw'\n",
    "\n",
    "matches['match_result']= matches.apply(lambda x: who_win(x), axis=1)\n",
    "matches_train = matches.sample(frac=0.7)\n",
    "matches_test  = matches[~matches.index.isin(matches_train.index)]\n",
    "clf = svm.SVC()\n",
    "matches_train.shape\n",
    "#X = matches['']\n",
    "#clf.fit(X, Y)"
   ]
  },
  {
   "cell_type": "code",
   "execution_count": 4,
   "metadata": {},
   "outputs": [
    {
     "data": {
      "text/plain": [
       "Index(['id', 'country_id', 'league_id', 'season', 'stage', 'date',\n",
       "       'match_api_id', 'home_team_api_id', 'away_team_api_id',\n",
       "       'home_team_goal',\n",
       "       ...\n",
       "       'VCH', 'VCD', 'VCA', 'GBH', 'GBD', 'GBA', 'BSH', 'BSD', 'BSA',\n",
       "       'match_result'],\n",
       "      dtype='object', length=116)"
      ]
     },
     "execution_count": 4,
     "metadata": {},
     "output_type": "execute_result"
    }
   ],
   "source": [
    "matches_train.columns"
   ]
  },
  {
   "cell_type": "code",
   "execution_count": 5,
   "metadata": {
    "_cell_guid": "dbc50fbe-d533-edd3-95dc-06406b342f00"
   },
   "outputs": [
    {
     "data": {
      "text/plain": [
       "(109, 116)"
      ]
     },
     "execution_count": 5,
     "metadata": {},
     "output_type": "execute_result"
    }
   ],
   "source": [
    "matches_test.shape\n"
   ]
  },
  {
   "cell_type": "code",
   "execution_count": 6,
   "metadata": {
    "_cell_guid": "500ca615-b3f8-1c1e-0978-2a173987c3d8"
   },
   "outputs": [
    {
     "data": {
      "text/html": [
       "<style>#sk-container-id-1 {color: black;}#sk-container-id-1 pre{padding: 0;}#sk-container-id-1 div.sk-toggleable {background-color: white;}#sk-container-id-1 label.sk-toggleable__label {cursor: pointer;display: block;width: 100%;margin-bottom: 0;padding: 0.3em;box-sizing: border-box;text-align: center;}#sk-container-id-1 label.sk-toggleable__label-arrow:before {content: \"▸\";float: left;margin-right: 0.25em;color: #696969;}#sk-container-id-1 label.sk-toggleable__label-arrow:hover:before {color: black;}#sk-container-id-1 div.sk-estimator:hover label.sk-toggleable__label-arrow:before {color: black;}#sk-container-id-1 div.sk-toggleable__content {max-height: 0;max-width: 0;overflow: hidden;text-align: left;background-color: #f0f8ff;}#sk-container-id-1 div.sk-toggleable__content pre {margin: 0.2em;color: black;border-radius: 0.25em;background-color: #f0f8ff;}#sk-container-id-1 input.sk-toggleable__control:checked~div.sk-toggleable__content {max-height: 200px;max-width: 100%;overflow: auto;}#sk-container-id-1 input.sk-toggleable__control:checked~label.sk-toggleable__label-arrow:before {content: \"▾\";}#sk-container-id-1 div.sk-estimator input.sk-toggleable__control:checked~label.sk-toggleable__label {background-color: #d4ebff;}#sk-container-id-1 div.sk-label input.sk-toggleable__control:checked~label.sk-toggleable__label {background-color: #d4ebff;}#sk-container-id-1 input.sk-hidden--visually {border: 0;clip: rect(1px 1px 1px 1px);clip: rect(1px, 1px, 1px, 1px);height: 1px;margin: -1px;overflow: hidden;padding: 0;position: absolute;width: 1px;}#sk-container-id-1 div.sk-estimator {font-family: monospace;background-color: #f0f8ff;border: 1px dotted black;border-radius: 0.25em;box-sizing: border-box;margin-bottom: 0.5em;}#sk-container-id-1 div.sk-estimator:hover {background-color: #d4ebff;}#sk-container-id-1 div.sk-parallel-item::after {content: \"\";width: 100%;border-bottom: 1px solid gray;flex-grow: 1;}#sk-container-id-1 div.sk-label:hover label.sk-toggleable__label {background-color: #d4ebff;}#sk-container-id-1 div.sk-serial::before {content: \"\";position: absolute;border-left: 1px solid gray;box-sizing: border-box;top: 0;bottom: 0;left: 50%;z-index: 0;}#sk-container-id-1 div.sk-serial {display: flex;flex-direction: column;align-items: center;background-color: white;padding-right: 0.2em;padding-left: 0.2em;position: relative;}#sk-container-id-1 div.sk-item {position: relative;z-index: 1;}#sk-container-id-1 div.sk-parallel {display: flex;align-items: stretch;justify-content: center;background-color: white;position: relative;}#sk-container-id-1 div.sk-item::before, #sk-container-id-1 div.sk-parallel-item::before {content: \"\";position: absolute;border-left: 1px solid gray;box-sizing: border-box;top: 0;bottom: 0;left: 50%;z-index: -1;}#sk-container-id-1 div.sk-parallel-item {display: flex;flex-direction: column;z-index: 1;position: relative;background-color: white;}#sk-container-id-1 div.sk-parallel-item:first-child::after {align-self: flex-end;width: 50%;}#sk-container-id-1 div.sk-parallel-item:last-child::after {align-self: flex-start;width: 50%;}#sk-container-id-1 div.sk-parallel-item:only-child::after {width: 0;}#sk-container-id-1 div.sk-dashed-wrapped {border: 1px dashed gray;margin: 0 0.4em 0.5em 0.4em;box-sizing: border-box;padding-bottom: 0.4em;background-color: white;}#sk-container-id-1 div.sk-label label {font-family: monospace;font-weight: bold;display: inline-block;line-height: 1.2em;}#sk-container-id-1 div.sk-label-container {text-align: center;}#sk-container-id-1 div.sk-container {/* jupyter's `normalize.less` sets `[hidden] { display: none; }` but bootstrap.min.css set `[hidden] { display: none !important; }` so we also need the `!important` here to be able to override the default hidden behavior on the sphinx rendered scikit-learn.org. See: https://github.com/scikit-learn/scikit-learn/issues/21755 */display: inline-block !important;position: relative;}#sk-container-id-1 div.sk-text-repr-fallback {display: none;}</style><div id=\"sk-container-id-1\" class=\"sk-top-container\"><div class=\"sk-text-repr-fallback\"><pre>SVC()</pre><b>In a Jupyter environment, please rerun this cell to show the HTML representation or trust the notebook. <br />On GitHub, the HTML representation is unable to render, please try loading this page with nbviewer.org.</b></div><div class=\"sk-container\" hidden><div class=\"sk-item\"><div class=\"sk-estimator sk-toggleable\"><input class=\"sk-toggleable__control sk-hidden--visually\" id=\"sk-estimator-id-1\" type=\"checkbox\" checked><label for=\"sk-estimator-id-1\" class=\"sk-toggleable__label sk-toggleable__label-arrow\">SVC</label><div class=\"sk-toggleable__content\"><pre>SVC()</pre></div></div></div></div></div>"
      ],
      "text/plain": [
       "SVC()"
      ]
     },
     "execution_count": 6,
     "metadata": {},
     "output_type": "execute_result"
    }
   ],
   "source": [
    "X_train = matches_train[['home_team_api_id','away_team_api_id']]\n",
    "Y_train = matches_train['match_result']\n",
    "clf.fit(X_train, Y_train)"
   ]
  },
  {
   "cell_type": "code",
   "execution_count": 7,
   "metadata": {},
   "outputs": [],
   "source": [
    "# clf.score(X_test, y_test)"
   ]
  },
  {
   "cell_type": "code",
   "execution_count": 8,
   "metadata": {
    "_cell_guid": "05e84a6c-7003-c624-bfce-77e20aee6ba0"
   },
   "outputs": [
    {
     "name": "stderr",
     "output_type": "stream",
     "text": [
      "/tmp/ipykernel_29763/202400012.py:2: SettingWithCopyWarning: \n",
      "A value is trying to be set on a copy of a slice from a DataFrame.\n",
      "Try using .loc[row_indexer,col_indexer] = value instead\n",
      "\n",
      "See the caveats in the documentation: https://pandas.pydata.org/pandas-docs/stable/user_guide/indexing.html#returning-a-view-versus-a-copy\n",
      "  matches_test['predicted'] = clf.predict(X_test)\n"
     ]
    }
   ],
   "source": [
    "X_test = matches_test[['home_team_api_id','away_team_api_id']]\n",
    "matches_test['predicted'] = clf.predict(X_test)"
   ]
  },
  {
   "cell_type": "code",
   "execution_count": 9,
   "metadata": {
    "_cell_guid": "0d2c9f40-8b50-26d2-5618-1a3b625cd0ab"
   },
   "outputs": [
    {
     "name": "stderr",
     "output_type": "stream",
     "text": [
      "/tmp/ipykernel_29763/144563421.py:1: SettingWithCopyWarning: \n",
      "A value is trying to be set on a copy of a slice from a DataFrame.\n",
      "Try using .loc[row_indexer,col_indexer] = value instead\n",
      "\n",
      "See the caveats in the documentation: https://pandas.pydata.org/pandas-docs/stable/user_guide/indexing.html#returning-a-view-versus-a-copy\n",
      "  matches_test['predict_good'] = matches_test.apply(lambda x: x['match_result']== x['predicted'], axis=1)\n"
     ]
    }
   ],
   "source": [
    "matches_test['predict_good'] = matches_test.apply(lambda x: x['match_result']== x['predicted'], axis=1)"
   ]
  },
  {
   "cell_type": "code",
   "execution_count": 10,
   "metadata": {
    "_cell_guid": "074433f7-6c58-1d36-96d4-551e29e05c02"
   },
   "outputs": [
    {
     "name": "stdout",
     "output_type": "stream",
     "text": [
      "0.46788990825688076\n"
     ]
    }
   ],
   "source": [
    "rate = len(matches_test[matches_test['predict_good']])/len(matches_test)\n",
    "print (rate)"
   ]
  },
  {
   "cell_type": "markdown",
   "metadata": {
    "_cell_guid": "5f16d677-d513-7c8a-8f8b-d8bc1a5dee5e"
   },
   "source": [
    "# Model v2: trying to see correlation with date"
   ]
  },
  {
   "cell_type": "markdown",
   "metadata": {
    "_cell_guid": "e0bb636c-27de-3f9e-9eb9-7b4d3f88e2c9"
   },
   "source": [
    "## Correlation with month"
   ]
  },
  {
   "cell_type": "code",
   "execution_count": 11,
   "metadata": {
    "_cell_guid": "57fdf2f3-7792-1e3c-438d-774929902c42"
   },
   "outputs": [
    {
     "name": "stderr",
     "output_type": "stream",
     "text": [
      "/tmp/ipykernel_29763/1400106515.py:3: SettingWithCopyWarning: \n",
      "A value is trying to be set on a copy of a slice from a DataFrame.\n",
      "Try using .loc[row_indexer,col_indexer] = value instead\n",
      "\n",
      "See the caveats in the documentation: https://pandas.pydata.org/pandas-docs/stable/user_guide/indexing.html#returning-a-view-versus-a-copy\n",
      "  X_train['date'] = X_train.apply(lambda x: x['date'].split('-')[1], axis=1)\n"
     ]
    },
    {
     "data": {
      "text/html": [
       "<style>#sk-container-id-2 {color: black;}#sk-container-id-2 pre{padding: 0;}#sk-container-id-2 div.sk-toggleable {background-color: white;}#sk-container-id-2 label.sk-toggleable__label {cursor: pointer;display: block;width: 100%;margin-bottom: 0;padding: 0.3em;box-sizing: border-box;text-align: center;}#sk-container-id-2 label.sk-toggleable__label-arrow:before {content: \"▸\";float: left;margin-right: 0.25em;color: #696969;}#sk-container-id-2 label.sk-toggleable__label-arrow:hover:before {color: black;}#sk-container-id-2 div.sk-estimator:hover label.sk-toggleable__label-arrow:before {color: black;}#sk-container-id-2 div.sk-toggleable__content {max-height: 0;max-width: 0;overflow: hidden;text-align: left;background-color: #f0f8ff;}#sk-container-id-2 div.sk-toggleable__content pre {margin: 0.2em;color: black;border-radius: 0.25em;background-color: #f0f8ff;}#sk-container-id-2 input.sk-toggleable__control:checked~div.sk-toggleable__content {max-height: 200px;max-width: 100%;overflow: auto;}#sk-container-id-2 input.sk-toggleable__control:checked~label.sk-toggleable__label-arrow:before {content: \"▾\";}#sk-container-id-2 div.sk-estimator input.sk-toggleable__control:checked~label.sk-toggleable__label {background-color: #d4ebff;}#sk-container-id-2 div.sk-label input.sk-toggleable__control:checked~label.sk-toggleable__label {background-color: #d4ebff;}#sk-container-id-2 input.sk-hidden--visually {border: 0;clip: rect(1px 1px 1px 1px);clip: rect(1px, 1px, 1px, 1px);height: 1px;margin: -1px;overflow: hidden;padding: 0;position: absolute;width: 1px;}#sk-container-id-2 div.sk-estimator {font-family: monospace;background-color: #f0f8ff;border: 1px dotted black;border-radius: 0.25em;box-sizing: border-box;margin-bottom: 0.5em;}#sk-container-id-2 div.sk-estimator:hover {background-color: #d4ebff;}#sk-container-id-2 div.sk-parallel-item::after {content: \"\";width: 100%;border-bottom: 1px solid gray;flex-grow: 1;}#sk-container-id-2 div.sk-label:hover label.sk-toggleable__label {background-color: #d4ebff;}#sk-container-id-2 div.sk-serial::before {content: \"\";position: absolute;border-left: 1px solid gray;box-sizing: border-box;top: 0;bottom: 0;left: 50%;z-index: 0;}#sk-container-id-2 div.sk-serial {display: flex;flex-direction: column;align-items: center;background-color: white;padding-right: 0.2em;padding-left: 0.2em;position: relative;}#sk-container-id-2 div.sk-item {position: relative;z-index: 1;}#sk-container-id-2 div.sk-parallel {display: flex;align-items: stretch;justify-content: center;background-color: white;position: relative;}#sk-container-id-2 div.sk-item::before, #sk-container-id-2 div.sk-parallel-item::before {content: \"\";position: absolute;border-left: 1px solid gray;box-sizing: border-box;top: 0;bottom: 0;left: 50%;z-index: -1;}#sk-container-id-2 div.sk-parallel-item {display: flex;flex-direction: column;z-index: 1;position: relative;background-color: white;}#sk-container-id-2 div.sk-parallel-item:first-child::after {align-self: flex-end;width: 50%;}#sk-container-id-2 div.sk-parallel-item:last-child::after {align-self: flex-start;width: 50%;}#sk-container-id-2 div.sk-parallel-item:only-child::after {width: 0;}#sk-container-id-2 div.sk-dashed-wrapped {border: 1px dashed gray;margin: 0 0.4em 0.5em 0.4em;box-sizing: border-box;padding-bottom: 0.4em;background-color: white;}#sk-container-id-2 div.sk-label label {font-family: monospace;font-weight: bold;display: inline-block;line-height: 1.2em;}#sk-container-id-2 div.sk-label-container {text-align: center;}#sk-container-id-2 div.sk-container {/* jupyter's `normalize.less` sets `[hidden] { display: none; }` but bootstrap.min.css set `[hidden] { display: none !important; }` so we also need the `!important` here to be able to override the default hidden behavior on the sphinx rendered scikit-learn.org. See: https://github.com/scikit-learn/scikit-learn/issues/21755 */display: inline-block !important;position: relative;}#sk-container-id-2 div.sk-text-repr-fallback {display: none;}</style><div id=\"sk-container-id-2\" class=\"sk-top-container\"><div class=\"sk-text-repr-fallback\"><pre>SVC()</pre><b>In a Jupyter environment, please rerun this cell to show the HTML representation or trust the notebook. <br />On GitHub, the HTML representation is unable to render, please try loading this page with nbviewer.org.</b></div><div class=\"sk-container\" hidden><div class=\"sk-item\"><div class=\"sk-estimator sk-toggleable\"><input class=\"sk-toggleable__control sk-hidden--visually\" id=\"sk-estimator-id-2\" type=\"checkbox\" checked><label for=\"sk-estimator-id-2\" class=\"sk-toggleable__label sk-toggleable__label-arrow\">SVC</label><div class=\"sk-toggleable__content\"><pre>SVC()</pre></div></div></div></div></div>"
      ],
      "text/plain": [
       "SVC()"
      ]
     },
     "execution_count": 11,
     "metadata": {},
     "output_type": "execute_result"
    }
   ],
   "source": [
    "clf = svm.SVC()\n",
    "X_train = matches_train[['date','home_team_api_id','away_team_api_id']]\n",
    "X_train['date'] = X_train.apply(lambda x: x['date'].split('-')[1], axis=1)\n",
    "Y_train = matches_train['match_result']\n",
    "clf.fit(X_train, Y_train)"
   ]
  },
  {
   "cell_type": "code",
   "execution_count": 12,
   "metadata": {
    "_cell_guid": "96457148-0618-ad77-28e6-7e4c87a57916"
   },
   "outputs": [
    {
     "name": "stdout",
     "output_type": "stream",
     "text": [
      "0.46788990825688076\n"
     ]
    },
    {
     "name": "stderr",
     "output_type": "stream",
     "text": [
      "/tmp/ipykernel_29763/2742017612.py:2: SettingWithCopyWarning: \n",
      "A value is trying to be set on a copy of a slice from a DataFrame.\n",
      "Try using .loc[row_indexer,col_indexer] = value instead\n",
      "\n",
      "See the caveats in the documentation: https://pandas.pydata.org/pandas-docs/stable/user_guide/indexing.html#returning-a-view-versus-a-copy\n",
      "  X_test['date'] = X_test.apply(lambda x: x['date'].split('-')[1], axis=1)\n",
      "/tmp/ipykernel_29763/2742017612.py:3: SettingWithCopyWarning: \n",
      "A value is trying to be set on a copy of a slice from a DataFrame.\n",
      "Try using .loc[row_indexer,col_indexer] = value instead\n",
      "\n",
      "See the caveats in the documentation: https://pandas.pydata.org/pandas-docs/stable/user_guide/indexing.html#returning-a-view-versus-a-copy\n",
      "  matches_test['predicted'] = clf.predict(X_test)\n",
      "/tmp/ipykernel_29763/2742017612.py:4: SettingWithCopyWarning: \n",
      "A value is trying to be set on a copy of a slice from a DataFrame.\n",
      "Try using .loc[row_indexer,col_indexer] = value instead\n",
      "\n",
      "See the caveats in the documentation: https://pandas.pydata.org/pandas-docs/stable/user_guide/indexing.html#returning-a-view-versus-a-copy\n",
      "  matches_test['predict_good'] = matches_test.apply(lambda x: x['match_result']== x['predicted'], axis=1)\n"
     ]
    }
   ],
   "source": [
    "X_test = matches_test[['date','home_team_api_id','away_team_api_id']]\n",
    "X_test['date'] = X_test.apply(lambda x: x['date'].split('-')[1], axis=1)\n",
    "matches_test['predicted'] = clf.predict(X_test)\n",
    "matches_test['predict_good'] = matches_test.apply(lambda x: x['match_result']== x['predicted'], axis=1)\n",
    "rate = len(matches_test[matches_test['predict_good']])/len(matches_test)\n",
    "print (rate)"
   ]
  },
  {
   "cell_type": "code",
   "execution_count": null,
   "metadata": {
    "_cell_guid": "c58a324f-c241-fd47-ace5-3a6a39b1f435"
   },
   "outputs": [],
   "source": []
  }
 ],
 "metadata": {
  "_change_revision": 679,
  "_is_fork": false,
  "kernelspec": {
   "display_name": "Python 3",
   "language": "python",
   "name": "python3"
  },
  "language_info": {
   "codemirror_mode": {
    "name": "ipython",
    "version": 3
   },
   "file_extension": ".py",
   "mimetype": "text/x-python",
   "name": "python",
   "nbconvert_exporter": "python",
   "pygments_lexer": "ipython3",
   "version": "3.11.6"
  }
 },
 "nbformat": 4,
 "nbformat_minor": 0
}
